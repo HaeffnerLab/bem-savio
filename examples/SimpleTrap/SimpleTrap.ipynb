{
 "cells": [
  {
   "cell_type": "code",
   "execution_count": 26,
   "metadata": {
    "pycharm": {
     "name": "#%%\n"
    }
   },
   "outputs": [],
   "source": [
    "#   bem: triangulation and fmm/bem electrostatics tools\n",
    "#\n",
    "#   Copyright (C) 2011-2012 Robert Jordens <jordens@gmail.com>\n",
    "#\n",
    "#   This program is free software: you can redistribute it and/or modify\n",
    "#   it under the terms of the GNU General Public License as published by\n",
    "#   the Free Software Foundation, either version 3 of the License, or\n",
    "#   (at your option) any later version.\n",
    "#\n",
    "#   This program is distributed in the hope that it will be useful,\n",
    "#   but WITHOUT ANY WARRANTY; without even the implied warranty of\n",
    "#   MERCHANTABILITY or FITNESS FOR A PARTICULAR PURPOSE.  See the\n",
    "#   GNU General Public License for more details.\n",
    "#\n",
    "#   You should have received a copy of the GNU General Public License\n",
    "#   along with this program.  If not, see <http://www.gnu.org/licenses/>."
   ]
  },
  {
   "cell_type": "markdown",
   "metadata": {},
   "source": [
    "# `bem` 2D Surface Trap example\n",
    "SimpleTrap"
   ]
  },
  {
   "cell_type": "code",
   "execution_count": 27,
   "metadata": {
    "pycharm": {
     "name": "#%%\n"
    }
   },
   "outputs": [],
   "source": [
    "import sys\n",
    "import logging, os\n",
    "from time import time\n",
    "import numpy as np\n",
    "# Importing pyface.qt is for setting \"Qt\" sip API version to 2 before matplotlib sets it to default v1\n",
    "# which is incompatible with \"pyside\" in package \"mayavi\". Python 2.\n",
    "# import pyface.qt\n",
    "import matplotlib.pyplot as plt\n",
    "from multiprocessing import Pool\n",
    "\n",
    "sys.path.append('/Users/Ben/Library/Mobile Documents/com~apple~CloudDocs/Documents/GitHub/ionLifetimes/bem')\n",
    "sys.path.append('/Users/Ben/Library/Mobile Documents/com~apple~CloudDocs/Documents/GitHub/ionLifetimes/bem/examples')\n",
    "sys.path.append('/Users/Ben/Library/Mobile Documents/com~apple~CloudDocs/Documents/GitHub/ionLifetimes/electrode')\n",
    "\n",
    "from bem import Electrodes, Sphere, Mesh, Grid, Configuration, Result\n",
    "from bem.formats import stl\n",
    "from trap_library import *\n",
    "import numpy as np"
   ]
  },
  {
   "cell_type": "code",
   "execution_count": 23,
   "metadata": {},
   "outputs": [],
   "source": [
    "# base file name for outputs and inputs is the script name\n",
    "try:\n",
    "    # works only if we are a script\n",
    "    prefix = os.path.splitext(__file__)[0]\n",
    "    print(\"non-used\")\n",
    "except NameError:\n",
    "    # fallback for notebooks\n",
    "    stl_file_in = \"htrapf\""
   ]
  },
  {
   "cell_type": "code",
   "execution_count": 24,
   "metadata": {
    "pycharm": {
     "name": "#%%\n"
    }
   },
   "outputs": [
    {
     "name": "stdout",
     "output_type": "stream",
     "text": [
      "Import stl: /home/sqip/Documents/github/bem/examples/SimpleTrap/htrap.stl \n",
      "\n",
      "Electrode colors (numbers):\n",
      "\n",
      "dropping 12319\n",
      "dropping 31754\n",
      "dropping 1055\n",
      "dropping 3171\n",
      "dropping 8223\n",
      "dropping 10271\n",
      "dropping 6175\n",
      "dropping 13343\n",
      "dropping 31\n",
      "dropping 7199\n",
      "dropping 30653\n",
      "dropping 17439\n",
      "dropping 2079\n",
      "dropping 1023\n",
      "dropping 14367\n",
      "dropping 568\n",
      "dropping 18463\n",
      "dropping 24607\n",
      "dropping 23583\n",
      "dropping 21535\n",
      "dropping 8776\n",
      "dropping 15391\n",
      "dropping 20511\n",
      "dropping 4127\n"
     ]
    }
   ],
   "source": [
    "# scale to natural units (ion height)\n",
    "scale = 40e-6    # Distance from ion to electrode is 40 um.\n",
    "use_stl = True\n",
    "\n",
    "if not use_stl:\n",
    "    # load electrode faces from loops\n",
    "    ele = Electrodes.from_trap(open(\"%s.ele\" % prefix), scale)\n",
    "    # initial triangulation, area 20, quiet\n",
    "    mesh = Mesh.from_electrodes(ele)\n",
    "    mesh.triangulate(opts=\"qa10Q\")\n",
    "else:\n",
    "    # load electrode faces from colored stl\n",
    "    # s_nta is intermediate processed stl file.\n",
    "    s_nta = stl.read_stl(open(\"trapstl/%s.stl\" % stl_file_in, \"rb\"))\n",
    "    print(\"Import stl:\",os.path.abspath(\"./\"+prefix+\".stl\"),\"\\n\")\n",
    "    print(\"Electrode colors (numbers):\\n\")\n",
    "    mesh = Mesh.from_mesh(stl.stl_to_mesh(*s_nta, scale=scale / 1e-3, rename={0: \"DC21\"}))"
   ]
  },
  {
   "cell_type": "markdown",
   "metadata": {},
   "source": [
    "The formal rename of electrode. Assign each electrode a string name instead of its color coding. Use the numbers you get above.\n",
    "stl.stl_to_mesh() prints normal vectors (different faces) in each electrode."
   ]
  },
  {
   "cell_type": "code",
   "execution_count": 25,
   "metadata": {
    "pycharm": {
     "name": "#%%\n"
    }
   },
   "outputs": [
    {
     "name": "stdout",
     "output_type": "stream",
     "text": [
      "3 <class 'tuple'> \n",
      "\n",
      "Triangles: 1968 \n",
      "Colors: 1968 \n",
      "\n",
      "dropping 12319\n",
      "1 planes in electrode DC1\n",
      "normals vectors:\n",
      " [[-2.60208521e-16  0.00000000e+00  1.00000000e+00]]\n",
      "1 planes in electrode DC11\n",
      "normals vectors:\n",
      " [[4.15363807e-19 8.95639721e-16 1.00000000e+00]]\n",
      "1 planes in electrode DC12\n",
      "normals vectors:\n",
      " [[4.15363807e-19 5.11564066e-16 1.00000000e+00]]\n",
      "1 planes in electrode DC13\n",
      "normals vectors:\n",
      " [[4.15363807e-19 2.55442214e-16 1.00000000e+00]]\n",
      "1 planes in electrode DC14\n",
      "normals vectors:\n",
      " [[ 4.15363807e-19 -3.26298366e-17  1.00000000e+00]]\n",
      "1 planes in electrode DC15\n",
      "normals vectors:\n",
      " [[ 4.15363807e-19 -3.84755320e-16  1.00000000e+00]]\n",
      "1 planes in electrode DC16\n",
      "normals vectors:\n",
      " [[ 4.15363807e-19 -6.72827387e-16  1.00000000e+00]]\n",
      "1 planes in electrode DC17\n",
      "normals vectors:\n",
      " [[ 4.15363807e-19 -8.64895813e-16  1.00000000e+00]]\n",
      "1 planes in electrode DC18\n",
      "normals vectors:\n",
      " [[ 4.15363807e-19 -1.05696424e-15  1.00000000e+00]]\n",
      "1 planes in electrode DC21\n",
      "normals vectors:\n",
      " [[8.00688916e-16 0.00000000e+00 1.00000000e+00]]\n",
      "1 planes in electrode RF\n",
      "normals vectors:\n",
      " [[-2.22044605e-16  3.12250226e-17  1.00000000e+00]]\n",
      "1 planes in electrode DC19\n",
      "normals vectors:\n",
      " [[ 4.15363807e-19 -1.24903267e-15  1.00000000e+00]]\n",
      "1 planes in electrode DC0\n",
      "normals vectors:\n",
      " [[ 4.15363807e-19 -1.48656622e-15  1.00000000e+00]]\n",
      "1 planes in electrode DC10\n",
      "normals vectors:\n",
      " [[-1.73472348e-16  0.00000000e+00  1.00000000e+00]]\n",
      "1 planes in electrode DC9\n",
      "normals vectors:\n",
      " [[-2.60208521e-16  0.00000000e+00  1.00000000e+00]]\n",
      "1 planes in electrode DC8\n",
      "normals vectors:\n",
      " [[-2.60208521e-16  2.03705977e-31  1.00000000e+00]]\n",
      "1 planes in electrode DC6\n",
      "normals vectors:\n",
      " [[-2.60208521e-16  2.03705977e-31  1.00000000e+00]]\n",
      "1 planes in electrode DC5\n",
      "normals vectors:\n",
      " [[-2.60208521e-16  5.09264942e-32  1.00000000e+00]]\n",
      "1 planes in electrode DC4\n",
      "normals vectors:\n",
      " [[-2.60208521e-16  7.63897414e-32  1.00000000e+00]]\n",
      "1 planes in electrode DC3\n",
      "normals vectors:\n",
      " [[-2.60208521e-16  1.01852988e-31  1.00000000e+00]]\n",
      "1 planes in electrode DC7\n",
      "normals vectors:\n",
      " [[-2.60208521e-16  0.00000000e+00  1.00000000e+00]]\n",
      "1 planes in electrode DC2\n",
      "normals vectors:\n",
      " [[-1.73472348e-16  0.00000000e+00  1.00000000e+00]]\n",
      "1 planes in electrode DC20\n",
      "normals vectors:\n",
      " [[ 4.15363807e-19 -1.47305139e-15  1.00000000e+00]]\n"
     ]
    }
   ],
   "source": [
    "print(len(s_nta), type(s_nta),\"\\n\")\n",
    "# s_nta is a length 3 tuple. (normal, triangle, attribute)\n",
    "# Normal direction of each triangle, three vetice of triangles, coding number of colors.\n",
    "print(\"Triangles:\",len(s_nta[0]),\"\\nColors:\",len(s_nta[2]),\"\\n\")    # This isn't right.\n",
    "\n",
    "# stl_to_mesh() only assigns names and does scaling, doing no triangulation to stl mesh.\n",
    "# \"scale=scale/1e-6\" only scales dimensionless scale/1e-6.    1e-6: if stl uses micron as unit.\n",
    "\n",
    "mesh = Mesh.from_mesh(stl.stl_to_mesh(*s_nta, scale=1,\n",
    "    rename=el_colordict[stl_file_in], quiet=False))"
   ]
  },
  {
   "cell_type": "code",
   "execution_count": null,
   "metadata": {},
   "outputs": [],
   "source": [
    "# ### Generate triangle mesh with constraints\n",
    "#\n",
    "# The meshes are 2-dimensional triangles on the surface of electrodes. The region enclosed by constraint shape can have finer mesh. Triangulation is done by `triangle` C library.\n",
    "#there are all in units of mm now (Ben S. feb 2022)\n",
    "xl = (3.1)*72*1e-3\n",
    "yl = -0.051*72*1e-3\n",
    "zl = 1.06*72*1e-3\n",
    "rad = 5*72*1e-3\n",
    "size = 100.0\n",
    "# set .1 max area within 3\n",
    "# areas_from_constraints specifies sphere with finer mesh inside it.\n",
    "mpl.rcParams['lines.linewidth'] = 0.2\n",
    " # \"inside\", \"outside\" set different mesh densities.\n",
    "# mesh.areas_from_constraints(Sphere(center=np.array([xl,yl,zl]),\n",
    "#            radius=10*factor, inside=0.1*factor**2, outside=1000))\n",
    "# mesh.triangulate(opts=\"\",new = False)\n",
    "mesh.areas_from_constraints(Sphere(center=np.array([xl,yl,zl]),\n",
    "           radius=rad, inside=2e-4, outside=2e-3))\n",
    "# retriangulate quality and quiet with areas\n",
    "mesh.triangulate(opts=\"qQ\", new=False)\n",
    "# save base mesh to vtk\n",
    "mesh.to_vtk(prefix)\n",
    "# grid to evalute potential and fields at\n",
    "\n",
    "\n",
    "n, s = 100, 0.002\n",
    "Lx, Ly, Lz = 0.100,0.100,0.100 # in the unit of scaled length l\n",
    "sx, sy, sz = s, s, s\n",
    "\n",
    "vtk_out = \"vtks/htrapf\"\n",
    "print(\"done\")\n",
    "\n",
    "# ni is grid point number, si is step size. Thus to fix size on i direction you need to fix ni*si.\n",
    "nx, ny, nz = [2*np.ceil(L/2.0/s).astype('int') for L in (Lx, Ly, Lz)]\n",
    "print(\"Size/l:\", Lx, Ly, Lz)\n",
    "print(\"Step/l:\", sx, sy, sz)\n",
    "print(\"Shape (grid point numbers):\", nx, ny, nz)\n",
    "grid = Grid(center=(xl,yl,zl), step=(sx, sy, sz), shape=(nx, ny, nz))\n",
    "# Grid center (nx, ny ,nz)/2 is shifted to origin\n",
    "print(\"Grid origin/l:\", grid.get_origin())\n",
    "\n",
    "n, s = 2*10, .1\n",
    "grid = Grid(center=(0, 0, 1.5), step=(s, s, s), shape=(n, n, n))\n",
    "# generate electrode potential configurations to simulate\n",
    "# use regexps to match electrode names\n",
    "jobs = list(Configuration.select(mesh, \"DC.*\", \"RF\"))\n",
    "# run the different electrodes on the parallel pool\n",
    "#pmap = Pool().map # parallel map\n",
    "pmap = map # serial map\n",
    "t0 = time()\n",
    "list(pmap(run_job, ((job, grid, prefix) for job in jobs)))  # In python 3, convert map(...) to list(map(...))\n",
    "print(\"Computing time: %f s\"%(time()-t0))"
   ]
  },
  {
   "cell_type": "code",
   "execution_count": null,
   "metadata": {},
   "outputs": [],
   "source": [
    "# isocontour plot of the RF pseudopotential radially\n",
    "result = Result.from_vtk(prefix, \"RF\")\n",
    "p = result.pseudo_potential\n",
    "x = grid.to_mgrid()[:, p.shape[0]//2]    # In python 3, use //\n",
    "p = p[p.shape[0]//2]\n",
    "fig, ax = plt.subplots()\n",
    "ax.set_aspect(\"equal\")\n",
    "ax.contour(x[1], x[2], p, levels=np.linspace(0, 2e-2, 20), cmap=plt.cm.Reds)"
   ]
  },
  {
   "cell_type": "code",
   "execution_count": null,
   "metadata": {},
   "outputs": [],
   "source": [
    "fig, ax = plt.subplots(subplot_kw=dict(aspect=\"equal\"))\n",
    "mesh.plot(ax)"
   ]
  },
  {
   "cell_type": "code",
   "execution_count": null,
   "metadata": {},
   "outputs": [],
   "source": [
    "# explore it in fancy 3D\n",
    "# fire up a mayavi2 window showing base mesh, charges on final mesh\n",
    "# and isosurfaces of the pseudopotential\n",
    "Result.view(prefix, \"RF\")\n",
    "# need to start the full eventloop for the window.\n",
    "# close it to return control to the notebook\n",
    "from pyface.api import GUI\n",
    "GUI().start_event_loop()\n",
    "\"done\""
   ]
  },
  {
   "cell_type": "code",
   "execution_count": null,
   "metadata": {},
   "outputs": [],
   "source": [
    "from electrode import System, GridElectrode\n",
    "\n",
    "# load the electrostatics results into a electrode.System()\n",
    "s = System()\n",
    "for name in \"DC1 DC2 DC3 DC4 DC5 RF\".split():\n",
    "    r = Result.from_vtk(prefix, name)\n",
    "    e = GridElectrode.from_result(r)\n",
    "    e.name = name\n",
    "    s.append(e)"
   ]
  },
  {
   "cell_type": "code",
   "execution_count": null,
   "metadata": {},
   "outputs": [],
   "source": [
    "import scipy.constants as ct\n",
    "l = 40e-6 # length scale\n",
    "o = 100e6*2*np.pi # rf frequency\n",
    "m = 25*ct.atomic_mass # ion mass\n",
    "q = 1*ct.elementary_charge # ion charge\n",
    "rf_scale = s.rf_scale(m,q,l,o)\n",
    "\n",
    "s[\"RF\"].rf = 25. # peak rf voltage\n",
    "method = 'Newton-CG'\n",
    "x0 = s.minimum((0, 0, 1.),method=method)\n",
    "# , min_method=method\n",
    "for _ in s.analyze_static(x0, m=m, l=l, o=o):\n",
    "    print(_)"
   ]
  },
  {
   "cell_type": "code",
   "execution_count": null,
   "metadata": {},
   "outputs": [],
   "source": [
    "n = 30\n",
    "#xyz = np.mgrid[-.1:.1:1j*n, -.1:.1:1j*n, 1.12:2]\n",
    "#xyz = np.mgrid[0:1, -.02:.02:1j*n, .5:1.5:1j*n]\n",
    "xyz = grid.to_mgrid()\n",
    "p = s.potential(xyz.reshape(3, -1).T, 0).reshape(xyz[0].shape)\n",
    "v = np.linspace(0, 2000e-2, 21)\n",
    "fig, ax = plt.subplots()\n",
    "ax.set_aspect(\"equal\")\n",
    "ax.contour(xyz[1, 10, :, :], xyz[2, 10, :, :], p[10, :, :], v, cmap=plt.cm.Reds)"
   ]
  },
  {
   "cell_type": "code",
   "execution_count": null,
   "metadata": {},
   "outputs": [],
   "source": []
  },
  {
   "cell_type": "code",
   "execution_count": null,
   "metadata": {},
   "outputs": [],
   "source": []
  },
  {
   "cell_type": "code",
   "execution_count": null,
   "metadata": {},
   "outputs": [],
   "source": []
  },
  {
   "cell_type": "code",
   "execution_count": null,
   "metadata": {},
   "outputs": [],
   "source": []
  }
 ],
 "metadata": {
  "kernelspec": {
   "display_name": "Python 3",
   "language": "python",
   "name": "python3"
  },
  "language_info": {
   "codemirror_mode": {
    "name": "ipython",
    "version": 3
   },
   "file_extension": ".py",
   "mimetype": "text/x-python",
   "name": "python",
   "nbconvert_exporter": "python",
   "pygments_lexer": "ipython3",
   "version": "3.6.12"
  }
 },
 "nbformat": 4,
 "nbformat_minor": 1
}
